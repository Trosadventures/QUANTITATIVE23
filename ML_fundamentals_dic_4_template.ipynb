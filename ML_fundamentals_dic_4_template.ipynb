{
  "nbformat": 4,
  "nbformat_minor": 0,
  "metadata": {
    "colab": {
      "provenance": [],
      "include_colab_link": true
    },
    "kernelspec": {
      "name": "python3",
      "display_name": "Python 3"
    },
    "language_info": {
      "name": "python"
    }
  },
  "cells": [
    {
      "cell_type": "markdown",
      "metadata": {
        "id": "view-in-github",
        "colab_type": "text"
      },
      "source": [
        "<a href=\"https://colab.research.google.com/github/Trosadventures/QUANTITATIVE23/blob/main/ML_fundamentals_dic_4_template.ipynb\" target=\"_parent\"><img src=\"https://colab.research.google.com/assets/colab-badge.svg\" alt=\"Open In Colab\"/></a>"
      ]
    },
    {
      "cell_type": "markdown",
      "source": [
        "# Machine Learning\n",
        "\n",
        "#### December, 4th 2023"
      ],
      "metadata": {
        "id": "XSx4cjAtUTFx"
      }
    },
    {
      "cell_type": "code",
      "execution_count": 2,
      "metadata": {
        "tags": [],
        "id": "8cWWiBXpaUTS"
      },
      "outputs": [],
      "source": [
        "from matplotlib import pyplot as plt\n",
        "import numpy as np\n",
        "import pandas as pd\n",
        "from scipy import stats\n",
        "import seaborn as sns\n",
        "\n",
        "import tensorflow as tf\n",
        "from tensorflow import keras\n",
        "from tensorflow.keras import layers\n",
        "from tensorflow.keras import models\n",
        "from keras.utils import plot_model\n",
        "from keras.optimizers import SGD"
      ]
    },
    {
      "cell_type": "markdown",
      "source": [
        "# Toy Neural Network"
      ],
      "metadata": {
        "id": "O28ax1QQd_bO"
      }
    },
    {
      "cell_type": "code",
      "source": [
        "init = tf.constant_initializer(np.array([0.8]))\n",
        "toy_model = keras.Sequential([\n",
        "    layers.Dense(1,\n",
        "                 input_dim=1,\n",
        "                 use_bias=False,\n",
        "                 kernel_initializer=init)\n",
        "])\n",
        "\n",
        "print(toy_model.summary())"
      ],
      "metadata": {
        "id": "Jf-AwHf-eAtC",
        "colab": {
          "base_uri": "https://localhost:8080/"
        },
        "outputId": "cd6405b9-7a50-4070-8e05-91ac66b3c17f"
      },
      "execution_count": 3,
      "outputs": [
        {
          "output_type": "stream",
          "name": "stdout",
          "text": [
            "Model: \"sequential\"\n",
            "_________________________________________________________________\n",
            " Layer (type)                Output Shape              Param #   \n",
            "=================================================================\n",
            " dense (Dense)               (None, 1)                 1         \n",
            "                                                                 \n",
            "=================================================================\n",
            "Total params: 1 (4.00 Byte)\n",
            "Trainable params: 1 (4.00 Byte)\n",
            "Non-trainable params: 0 (0.00 Byte)\n",
            "_________________________________________________________________\n",
            "None\n"
          ]
        }
      ]
    },
    {
      "cell_type": "code",
      "source": [
        "print(toy_model.get_weights())"
      ],
      "metadata": {
        "id": "GDCUIJlheMie",
        "colab": {
          "base_uri": "https://localhost:8080/"
        },
        "outputId": "bcc5aea8-ebb7-4518-8c68-361d08644b40"
      },
      "execution_count": 4,
      "outputs": [
        {
          "output_type": "stream",
          "name": "stdout",
          "text": [
            "[array([[0.8]], dtype=float32)]\n"
          ]
        }
      ]
    },
    {
      "cell_type": "code",
      "source": [
        "toy_model.predict(x=np.array([1.5]))"
      ],
      "metadata": {
        "id": "AfAGIdeieOgB",
        "colab": {
          "base_uri": "https://localhost:8080/"
        },
        "outputId": "96c84c2c-4475-470d-dde5-528e5e57af45"
      },
      "execution_count": 5,
      "outputs": [
        {
          "output_type": "stream",
          "name": "stdout",
          "text": [
            "1/1 [==============================] - 0s 313ms/step\n"
          ]
        },
        {
          "output_type": "execute_result",
          "data": {
            "text/plain": [
              "array([[1.2]], dtype=float32)"
            ]
          },
          "metadata": {},
          "execution_count": 5
        }
      ]
    },
    {
      "cell_type": "code",
      "source": [
        "toy_model.compile(optimizer=SGD(learning_rate=0.1),\n",
        "                  loss=\"mean_squared_error\")\n",
        "\n",
        "X = np.array([1.5])\n",
        "y = np.array([0.5])\n",
        "toy_model_fit = toy_model.fit(\n",
        "    X,\n",
        "    y,\n",
        "    epochs=1)"
      ],
      "metadata": {
        "id": "-f62Ia2heUTx",
        "colab": {
          "base_uri": "https://localhost:8080/"
        },
        "outputId": "c1b0f84c-d70d-4712-db42-be2d737beabd"
      },
      "execution_count": 6,
      "outputs": [
        {
          "output_type": "stream",
          "name": "stdout",
          "text": [
            "1/1 [==============================] - 0s 317ms/step - loss: 0.4900\n"
          ]
        }
      ]
    },
    {
      "cell_type": "code",
      "source": [
        "print(toy_model.get_weights())"
      ],
      "metadata": {
        "id": "inDyEEkhen9I",
        "colab": {
          "base_uri": "https://localhost:8080/"
        },
        "outputId": "5720420f-a12a-4fb9-9b51-b7d0872051db"
      },
      "execution_count": 7,
      "outputs": [
        {
          "output_type": "stream",
          "name": "stdout",
          "text": [
            "[array([[0.59]], dtype=float32)]\n"
          ]
        }
      ]
    },
    {
      "cell_type": "code",
      "source": [
        "toy_model.predict(x=np.array([1.5]))"
      ],
      "metadata": {
        "id": "DYopzBCKdDJb",
        "colab": {
          "base_uri": "https://localhost:8080/"
        },
        "outputId": "31adace7-c8e4-45fe-c3e1-d6b8d4c0ab08"
      },
      "execution_count": 8,
      "outputs": [
        {
          "output_type": "stream",
          "name": "stdout",
          "text": [
            "1/1 [==============================] - 0s 39ms/step\n"
          ]
        },
        {
          "output_type": "execute_result",
          "data": {
            "text/plain": [
              "array([[0.885]], dtype=float32)"
            ]
          },
          "metadata": {},
          "execution_count": 8
        }
      ]
    },
    {
      "cell_type": "markdown",
      "source": [
        "# Toy Neural Network v2"
      ],
      "metadata": {
        "id": "ePfbVf8goORZ"
      }
    },
    {
      "cell_type": "code",
      "source": [
        "toy_model = keras.Sequential([\n",
        "    layers.Dense(4,               # Hidden layer\n",
        "                 input_dim=3),\n",
        "    layers.Dense(1)               # Output layer\n",
        "])\n",
        "\n",
        "print(toy_model.summary())"
      ],
      "metadata": {
        "id": "ZEjaKniLdQvQ",
        "colab": {
          "base_uri": "https://localhost:8080/"
        },
        "outputId": "735e2fdd-53d8-433e-d691-25ea6659ed8a"
      },
      "execution_count": 9,
      "outputs": [
        {
          "output_type": "stream",
          "name": "stdout",
          "text": [
            "Model: \"sequential_1\"\n",
            "_________________________________________________________________\n",
            " Layer (type)                Output Shape              Param #   \n",
            "=================================================================\n",
            " dense_1 (Dense)             (None, 4)                 16        \n",
            "                                                                 \n",
            " dense_2 (Dense)             (None, 1)                 5         \n",
            "                                                                 \n",
            "=================================================================\n",
            "Total params: 21 (84.00 Byte)\n",
            "Trainable params: 21 (84.00 Byte)\n",
            "Non-trainable params: 0 (0.00 Byte)\n",
            "_________________________________________________________________\n",
            "None\n"
          ]
        }
      ]
    },
    {
      "cell_type": "code",
      "source": [
        "print(toy_model.get_weights())"
      ],
      "metadata": {
        "id": "VeMWYYnvdlMh",
        "colab": {
          "base_uri": "https://localhost:8080/"
        },
        "outputId": "eab33ea6-caae-4291-939c-0ed475720786"
      },
      "execution_count": 10,
      "outputs": [
        {
          "output_type": "stream",
          "name": "stdout",
          "text": [
            "[array([[ 0.582592  , -0.48072958,  0.27911806,  0.41363454],\n",
            "       [-0.8274647 , -0.76785165,  0.01096356, -0.31494826],\n",
            "       [-0.40850562, -0.08862311, -0.09665531, -0.3651548 ]],\n",
            "      dtype=float32), array([0., 0., 0., 0.], dtype=float32), array([[-0.57627416],\n",
            "       [-0.19267309],\n",
            "       [ 0.02122509],\n",
            "       [ 1.0608099 ]], dtype=float32), array([0.], dtype=float32)]\n"
          ]
        }
      ]
    },
    {
      "cell_type": "code",
      "source": [
        "X = np.array([[1.5,2.5,3.5]])\n",
        "y = np.array([0.5])\n",
        "\n",
        "toy_model.predict(x=np.array([[1.5,2.5,3.5]]))"
      ],
      "metadata": {
        "id": "cwsL5OVeoT_n",
        "colab": {
          "base_uri": "https://localhost:8080/"
        },
        "outputId": "ce2be4ac-9a15-461b-a585-422f249dc0c7"
      },
      "execution_count": 11,
      "outputs": [
        {
          "output_type": "stream",
          "name": "stdout",
          "text": [
            "1/1 [==============================] - 0s 58ms/step\n"
          ]
        },
        {
          "output_type": "execute_result",
          "data": {
            "text/plain": [
              "array([[0.5504756]], dtype=float32)"
            ]
          },
          "metadata": {},
          "execution_count": 11
        }
      ]
    },
    {
      "cell_type": "markdown",
      "source": [
        "# Neural Network - Advertising dataset"
      ],
      "metadata": {
        "id": "K-_1e4-egZrm"
      }
    },
    {
      "cell_type": "code",
      "source": [
        "from google.colab import drive\n",
        "drive.mount('/content/drive')"
      ],
      "metadata": {
        "id": "Un3yA6B4mFQr",
        "colab": {
          "base_uri": "https://localhost:8080/"
        },
        "outputId": "345e011e-898f-4738-c304-105345ddb502"
      },
      "execution_count": 26,
      "outputs": [
        {
          "output_type": "stream",
          "name": "stdout",
          "text": [
            "Drive already mounted at /content/drive; to attempt to forcibly remount, call drive.mount(\"/content/drive\", force_remount=True).\n"
          ]
        }
      ]
    },
    {
      "cell_type": "code",
      "source": [
        "advertising_df = pd.read_csv(\"drive/MyDrive/Advertising.csv\")\n",
        "advertising_df = advertising_df.iloc[:,1:]\n",
        "advertising_df.head(3)"
      ],
      "metadata": {
        "id": "GsG9d59nVaEp",
        "colab": {
          "base_uri": "https://localhost:8080/",
          "height": 143
        },
        "outputId": "97459c4a-658c-4fcf-8d56-db5400dde60c"
      },
      "execution_count": 27,
      "outputs": [
        {
          "output_type": "execute_result",
          "data": {
            "text/plain": [
              "      TV  radio  newspaper  sales\n",
              "0  230.1   37.8       69.2   22.1\n",
              "1   44.5   39.3       45.1   10.4\n",
              "2   17.2   45.9       69.3    9.3"
            ],
            "text/html": [
              "\n",
              "  <div id=\"df-28b7c39c-eadc-42ae-8a31-751f85a61b4a\" class=\"colab-df-container\">\n",
              "    <div>\n",
              "<style scoped>\n",
              "    .dataframe tbody tr th:only-of-type {\n",
              "        vertical-align: middle;\n",
              "    }\n",
              "\n",
              "    .dataframe tbody tr th {\n",
              "        vertical-align: top;\n",
              "    }\n",
              "\n",
              "    .dataframe thead th {\n",
              "        text-align: right;\n",
              "    }\n",
              "</style>\n",
              "<table border=\"1\" class=\"dataframe\">\n",
              "  <thead>\n",
              "    <tr style=\"text-align: right;\">\n",
              "      <th></th>\n",
              "      <th>TV</th>\n",
              "      <th>radio</th>\n",
              "      <th>newspaper</th>\n",
              "      <th>sales</th>\n",
              "    </tr>\n",
              "  </thead>\n",
              "  <tbody>\n",
              "    <tr>\n",
              "      <th>0</th>\n",
              "      <td>230.1</td>\n",
              "      <td>37.8</td>\n",
              "      <td>69.2</td>\n",
              "      <td>22.1</td>\n",
              "    </tr>\n",
              "    <tr>\n",
              "      <th>1</th>\n",
              "      <td>44.5</td>\n",
              "      <td>39.3</td>\n",
              "      <td>45.1</td>\n",
              "      <td>10.4</td>\n",
              "    </tr>\n",
              "    <tr>\n",
              "      <th>2</th>\n",
              "      <td>17.2</td>\n",
              "      <td>45.9</td>\n",
              "      <td>69.3</td>\n",
              "      <td>9.3</td>\n",
              "    </tr>\n",
              "  </tbody>\n",
              "</table>\n",
              "</div>\n",
              "    <div class=\"colab-df-buttons\">\n",
              "\n",
              "  <div class=\"colab-df-container\">\n",
              "    <button class=\"colab-df-convert\" onclick=\"convertToInteractive('df-28b7c39c-eadc-42ae-8a31-751f85a61b4a')\"\n",
              "            title=\"Convert this dataframe to an interactive table.\"\n",
              "            style=\"display:none;\">\n",
              "\n",
              "  <svg xmlns=\"http://www.w3.org/2000/svg\" height=\"24px\" viewBox=\"0 -960 960 960\">\n",
              "    <path d=\"M120-120v-720h720v720H120Zm60-500h600v-160H180v160Zm220 220h160v-160H400v160Zm0 220h160v-160H400v160ZM180-400h160v-160H180v160Zm440 0h160v-160H620v160ZM180-180h160v-160H180v160Zm440 0h160v-160H620v160Z\"/>\n",
              "  </svg>\n",
              "    </button>\n",
              "\n",
              "  <style>\n",
              "    .colab-df-container {\n",
              "      display:flex;\n",
              "      gap: 12px;\n",
              "    }\n",
              "\n",
              "    .colab-df-convert {\n",
              "      background-color: #E8F0FE;\n",
              "      border: none;\n",
              "      border-radius: 50%;\n",
              "      cursor: pointer;\n",
              "      display: none;\n",
              "      fill: #1967D2;\n",
              "      height: 32px;\n",
              "      padding: 0 0 0 0;\n",
              "      width: 32px;\n",
              "    }\n",
              "\n",
              "    .colab-df-convert:hover {\n",
              "      background-color: #E2EBFA;\n",
              "      box-shadow: 0px 1px 2px rgba(60, 64, 67, 0.3), 0px 1px 3px 1px rgba(60, 64, 67, 0.15);\n",
              "      fill: #174EA6;\n",
              "    }\n",
              "\n",
              "    .colab-df-buttons div {\n",
              "      margin-bottom: 4px;\n",
              "    }\n",
              "\n",
              "    [theme=dark] .colab-df-convert {\n",
              "      background-color: #3B4455;\n",
              "      fill: #D2E3FC;\n",
              "    }\n",
              "\n",
              "    [theme=dark] .colab-df-convert:hover {\n",
              "      background-color: #434B5C;\n",
              "      box-shadow: 0px 1px 3px 1px rgba(0, 0, 0, 0.15);\n",
              "      filter: drop-shadow(0px 1px 2px rgba(0, 0, 0, 0.3));\n",
              "      fill: #FFFFFF;\n",
              "    }\n",
              "  </style>\n",
              "\n",
              "    <script>\n",
              "      const buttonEl =\n",
              "        document.querySelector('#df-28b7c39c-eadc-42ae-8a31-751f85a61b4a button.colab-df-convert');\n",
              "      buttonEl.style.display =\n",
              "        google.colab.kernel.accessAllowed ? 'block' : 'none';\n",
              "\n",
              "      async function convertToInteractive(key) {\n",
              "        const element = document.querySelector('#df-28b7c39c-eadc-42ae-8a31-751f85a61b4a');\n",
              "        const dataTable =\n",
              "          await google.colab.kernel.invokeFunction('convertToInteractive',\n",
              "                                                    [key], {});\n",
              "        if (!dataTable) return;\n",
              "\n",
              "        const docLinkHtml = 'Like what you see? Visit the ' +\n",
              "          '<a target=\"_blank\" href=https://colab.research.google.com/notebooks/data_table.ipynb>data table notebook</a>'\n",
              "          + ' to learn more about interactive tables.';\n",
              "        element.innerHTML = '';\n",
              "        dataTable['output_type'] = 'display_data';\n",
              "        await google.colab.output.renderOutput(dataTable, element);\n",
              "        const docLink = document.createElement('div');\n",
              "        docLink.innerHTML = docLinkHtml;\n",
              "        element.appendChild(docLink);\n",
              "      }\n",
              "    </script>\n",
              "  </div>\n",
              "\n",
              "\n",
              "<div id=\"df-f06087cf-1489-4716-827d-db56513e84f8\">\n",
              "  <button class=\"colab-df-quickchart\" onclick=\"quickchart('df-f06087cf-1489-4716-827d-db56513e84f8')\"\n",
              "            title=\"Suggest charts\"\n",
              "            style=\"display:none;\">\n",
              "\n",
              "<svg xmlns=\"http://www.w3.org/2000/svg\" height=\"24px\"viewBox=\"0 0 24 24\"\n",
              "     width=\"24px\">\n",
              "    <g>\n",
              "        <path d=\"M19 3H5c-1.1 0-2 .9-2 2v14c0 1.1.9 2 2 2h14c1.1 0 2-.9 2-2V5c0-1.1-.9-2-2-2zM9 17H7v-7h2v7zm4 0h-2V7h2v10zm4 0h-2v-4h2v4z\"/>\n",
              "    </g>\n",
              "</svg>\n",
              "  </button>\n",
              "\n",
              "<style>\n",
              "  .colab-df-quickchart {\n",
              "      --bg-color: #E8F0FE;\n",
              "      --fill-color: #1967D2;\n",
              "      --hover-bg-color: #E2EBFA;\n",
              "      --hover-fill-color: #174EA6;\n",
              "      --disabled-fill-color: #AAA;\n",
              "      --disabled-bg-color: #DDD;\n",
              "  }\n",
              "\n",
              "  [theme=dark] .colab-df-quickchart {\n",
              "      --bg-color: #3B4455;\n",
              "      --fill-color: #D2E3FC;\n",
              "      --hover-bg-color: #434B5C;\n",
              "      --hover-fill-color: #FFFFFF;\n",
              "      --disabled-bg-color: #3B4455;\n",
              "      --disabled-fill-color: #666;\n",
              "  }\n",
              "\n",
              "  .colab-df-quickchart {\n",
              "    background-color: var(--bg-color);\n",
              "    border: none;\n",
              "    border-radius: 50%;\n",
              "    cursor: pointer;\n",
              "    display: none;\n",
              "    fill: var(--fill-color);\n",
              "    height: 32px;\n",
              "    padding: 0;\n",
              "    width: 32px;\n",
              "  }\n",
              "\n",
              "  .colab-df-quickchart:hover {\n",
              "    background-color: var(--hover-bg-color);\n",
              "    box-shadow: 0 1px 2px rgba(60, 64, 67, 0.3), 0 1px 3px 1px rgba(60, 64, 67, 0.15);\n",
              "    fill: var(--button-hover-fill-color);\n",
              "  }\n",
              "\n",
              "  .colab-df-quickchart-complete:disabled,\n",
              "  .colab-df-quickchart-complete:disabled:hover {\n",
              "    background-color: var(--disabled-bg-color);\n",
              "    fill: var(--disabled-fill-color);\n",
              "    box-shadow: none;\n",
              "  }\n",
              "\n",
              "  .colab-df-spinner {\n",
              "    border: 2px solid var(--fill-color);\n",
              "    border-color: transparent;\n",
              "    border-bottom-color: var(--fill-color);\n",
              "    animation:\n",
              "      spin 1s steps(1) infinite;\n",
              "  }\n",
              "\n",
              "  @keyframes spin {\n",
              "    0% {\n",
              "      border-color: transparent;\n",
              "      border-bottom-color: var(--fill-color);\n",
              "      border-left-color: var(--fill-color);\n",
              "    }\n",
              "    20% {\n",
              "      border-color: transparent;\n",
              "      border-left-color: var(--fill-color);\n",
              "      border-top-color: var(--fill-color);\n",
              "    }\n",
              "    30% {\n",
              "      border-color: transparent;\n",
              "      border-left-color: var(--fill-color);\n",
              "      border-top-color: var(--fill-color);\n",
              "      border-right-color: var(--fill-color);\n",
              "    }\n",
              "    40% {\n",
              "      border-color: transparent;\n",
              "      border-right-color: var(--fill-color);\n",
              "      border-top-color: var(--fill-color);\n",
              "    }\n",
              "    60% {\n",
              "      border-color: transparent;\n",
              "      border-right-color: var(--fill-color);\n",
              "    }\n",
              "    80% {\n",
              "      border-color: transparent;\n",
              "      border-right-color: var(--fill-color);\n",
              "      border-bottom-color: var(--fill-color);\n",
              "    }\n",
              "    90% {\n",
              "      border-color: transparent;\n",
              "      border-bottom-color: var(--fill-color);\n",
              "    }\n",
              "  }\n",
              "</style>\n",
              "\n",
              "  <script>\n",
              "    async function quickchart(key) {\n",
              "      const quickchartButtonEl =\n",
              "        document.querySelector('#' + key + ' button');\n",
              "      quickchartButtonEl.disabled = true;  // To prevent multiple clicks.\n",
              "      quickchartButtonEl.classList.add('colab-df-spinner');\n",
              "      try {\n",
              "        const charts = await google.colab.kernel.invokeFunction(\n",
              "            'suggestCharts', [key], {});\n",
              "      } catch (error) {\n",
              "        console.error('Error during call to suggestCharts:', error);\n",
              "      }\n",
              "      quickchartButtonEl.classList.remove('colab-df-spinner');\n",
              "      quickchartButtonEl.classList.add('colab-df-quickchart-complete');\n",
              "    }\n",
              "    (() => {\n",
              "      let quickchartButtonEl =\n",
              "        document.querySelector('#df-f06087cf-1489-4716-827d-db56513e84f8 button');\n",
              "      quickchartButtonEl.style.display =\n",
              "        google.colab.kernel.accessAllowed ? 'block' : 'none';\n",
              "    })();\n",
              "  </script>\n",
              "</div>\n",
              "    </div>\n",
              "  </div>\n"
            ]
          },
          "metadata": {},
          "execution_count": 27
        }
      ]
    },
    {
      "cell_type": "code",
      "source": [
        "first_model = keras.Sequential([\n",
        "    layers.Dense(16, activation='relu', # Hidden layer 1\n",
        "                 input_dim=3),\n",
        "    layers.Dense(32, activation='relu'),# Hidden layer 2\n",
        "    layers.Dense(1, activation='relu'), # Output layer\n",
        "])\n",
        "print(first_model.summary())"
      ],
      "metadata": {
        "id": "NUGAsbZRp8mq",
        "colab": {
          "base_uri": "https://localhost:8080/"
        },
        "outputId": "bcc86018-7b6d-4ac6-d42d-c64a9f679cf4"
      },
      "execution_count": 28,
      "outputs": [
        {
          "output_type": "stream",
          "name": "stdout",
          "text": [
            "Model: \"sequential_4\"\n",
            "_________________________________________________________________\n",
            " Layer (type)                Output Shape              Param #   \n",
            "=================================================================\n",
            " dense_9 (Dense)             (None, 16)                64        \n",
            "                                                                 \n",
            " dense_10 (Dense)            (None, 32)                544       \n",
            "                                                                 \n",
            " dense_11 (Dense)            (None, 1)                 33        \n",
            "                                                                 \n",
            "=================================================================\n",
            "Total params: 641 (2.50 KB)\n",
            "Trainable params: 641 (2.50 KB)\n",
            "Non-trainable params: 0 (0.00 Byte)\n",
            "_________________________________________________________________\n",
            "None\n"
          ]
        }
      ]
    },
    {
      "cell_type": "code",
      "source": [
        "first_model.compile(loss=\"mean_squared_error\")"
      ],
      "metadata": {
        "id": "oGWbKW3QqN5s"
      },
      "execution_count": 29,
      "outputs": []
    },
    {
      "cell_type": "code",
      "source": [
        "first_model_fit = first_model.fit(\n",
        "    advertising_df[['TV','radio','newspaper']],\n",
        "    advertising_df[['sales']],\n",
        "    epochs=100,\n",
        "    validation_split=0.2\n",
        ")"
      ],
      "metadata": {
        "id": "SDP2Iya4qgrL",
        "colab": {
          "base_uri": "https://localhost:8080/"
        },
        "outputId": "3b2e01c7-e5a0-4fcd-eae2-adbe034d13e7"
      },
      "execution_count": 30,
      "outputs": [
        {
          "output_type": "stream",
          "name": "stdout",
          "text": [
            "Epoch 1/100\n",
            "5/5 [==============================] - 1s 65ms/step - loss: 160.6539 - val_loss: 121.5802\n",
            "Epoch 2/100\n",
            "5/5 [==============================] - 0s 14ms/step - loss: 85.1943 - val_loss: 94.4523\n",
            "Epoch 3/100\n",
            "5/5 [==============================] - 0s 13ms/step - loss: 65.6534 - val_loss: 65.2713\n",
            "Epoch 4/100\n",
            "5/5 [==============================] - 0s 17ms/step - loss: 49.0066 - val_loss: 45.3861\n",
            "Epoch 5/100\n",
            "5/5 [==============================] - 0s 13ms/step - loss: 32.9139 - val_loss: 45.2192\n",
            "Epoch 6/100\n",
            "5/5 [==============================] - 0s 16ms/step - loss: 25.6471 - val_loss: 23.2013\n",
            "Epoch 7/100\n",
            "5/5 [==============================] - 0s 14ms/step - loss: 15.3659 - val_loss: 18.2774\n",
            "Epoch 8/100\n",
            "5/5 [==============================] - 0s 17ms/step - loss: 10.8740 - val_loss: 13.2829\n",
            "Epoch 9/100\n",
            "5/5 [==============================] - 0s 17ms/step - loss: 8.0210 - val_loss: 12.3026\n",
            "Epoch 10/100\n",
            "5/5 [==============================] - 0s 20ms/step - loss: 8.6777 - val_loss: 8.7975\n",
            "Epoch 11/100\n",
            "5/5 [==============================] - 0s 18ms/step - loss: 6.6660 - val_loss: 6.7960\n",
            "Epoch 12/100\n",
            "5/5 [==============================] - 0s 13ms/step - loss: 6.1424 - val_loss: 6.2983\n",
            "Epoch 13/100\n",
            "5/5 [==============================] - 0s 17ms/step - loss: 5.2196 - val_loss: 6.8630\n",
            "Epoch 14/100\n",
            "5/5 [==============================] - 0s 17ms/step - loss: 4.7430 - val_loss: 5.6378\n",
            "Epoch 15/100\n",
            "5/5 [==============================] - 0s 13ms/step - loss: 6.9153 - val_loss: 6.1120\n",
            "Epoch 16/100\n",
            "5/5 [==============================] - 0s 16ms/step - loss: 5.9637 - val_loss: 6.9332\n",
            "Epoch 17/100\n",
            "5/5 [==============================] - 0s 13ms/step - loss: 4.5152 - val_loss: 6.1116\n",
            "Epoch 18/100\n",
            "5/5 [==============================] - 0s 12ms/step - loss: 4.9754 - val_loss: 4.7715\n",
            "Epoch 19/100\n",
            "5/5 [==============================] - 0s 16ms/step - loss: 6.2965 - val_loss: 7.6923\n",
            "Epoch 20/100\n",
            "5/5 [==============================] - 0s 17ms/step - loss: 4.4557 - val_loss: 4.3088\n",
            "Epoch 21/100\n",
            "5/5 [==============================] - 0s 18ms/step - loss: 3.7385 - val_loss: 4.1431\n",
            "Epoch 22/100\n",
            "5/5 [==============================] - 0s 17ms/step - loss: 5.6270 - val_loss: 5.6505\n",
            "Epoch 23/100\n",
            "5/5 [==============================] - 0s 17ms/step - loss: 3.5184 - val_loss: 4.7810\n",
            "Epoch 24/100\n",
            "5/5 [==============================] - 0s 20ms/step - loss: 5.2704 - val_loss: 4.6752\n",
            "Epoch 25/100\n",
            "5/5 [==============================] - 0s 13ms/step - loss: 4.2238 - val_loss: 5.2767\n",
            "Epoch 26/100\n",
            "5/5 [==============================] - 0s 13ms/step - loss: 4.1201 - val_loss: 4.6469\n",
            "Epoch 27/100\n",
            "5/5 [==============================] - 0s 14ms/step - loss: 4.9569 - val_loss: 6.2519\n",
            "Epoch 28/100\n",
            "5/5 [==============================] - 0s 17ms/step - loss: 4.6908 - val_loss: 3.9783\n",
            "Epoch 29/100\n",
            "5/5 [==============================] - 0s 18ms/step - loss: 3.4983 - val_loss: 5.2545\n",
            "Epoch 30/100\n",
            "5/5 [==============================] - 0s 17ms/step - loss: 3.1768 - val_loss: 8.3780\n",
            "Epoch 31/100\n",
            "5/5 [==============================] - 0s 14ms/step - loss: 4.2602 - val_loss: 5.7855\n",
            "Epoch 32/100\n",
            "5/5 [==============================] - 0s 13ms/step - loss: 3.8743 - val_loss: 3.7541\n",
            "Epoch 33/100\n",
            "5/5 [==============================] - 0s 14ms/step - loss: 5.1171 - val_loss: 6.6387\n",
            "Epoch 34/100\n",
            "5/5 [==============================] - 0s 18ms/step - loss: 3.8094 - val_loss: 3.7364\n",
            "Epoch 35/100\n",
            "5/5 [==============================] - 0s 18ms/step - loss: 3.7372 - val_loss: 5.4752\n",
            "Epoch 36/100\n",
            "5/5 [==============================] - 0s 14ms/step - loss: 4.8082 - val_loss: 4.8995\n",
            "Epoch 37/100\n",
            "5/5 [==============================] - 0s 14ms/step - loss: 3.1988 - val_loss: 5.0816\n",
            "Epoch 38/100\n",
            "5/5 [==============================] - 0s 17ms/step - loss: 4.1438 - val_loss: 7.3501\n",
            "Epoch 39/100\n",
            "5/5 [==============================] - 0s 18ms/step - loss: 4.3698 - val_loss: 3.5025\n",
            "Epoch 40/100\n",
            "5/5 [==============================] - 0s 15ms/step - loss: 2.8789 - val_loss: 6.0739\n",
            "Epoch 41/100\n",
            "5/5 [==============================] - 0s 17ms/step - loss: 4.4421 - val_loss: 3.7675\n",
            "Epoch 42/100\n",
            "5/5 [==============================] - 0s 13ms/step - loss: 3.2516 - val_loss: 3.3934\n",
            "Epoch 43/100\n",
            "5/5 [==============================] - 0s 12ms/step - loss: 4.5028 - val_loss: 5.4328\n",
            "Epoch 44/100\n",
            "5/5 [==============================] - 0s 19ms/step - loss: 3.7612 - val_loss: 4.3134\n",
            "Epoch 45/100\n",
            "5/5 [==============================] - 0s 17ms/step - loss: 3.9148 - val_loss: 4.7041\n",
            "Epoch 46/100\n",
            "5/5 [==============================] - 0s 14ms/step - loss: 3.3467 - val_loss: 3.7515\n",
            "Epoch 47/100\n",
            "5/5 [==============================] - 0s 16ms/step - loss: 2.6982 - val_loss: 4.9682\n",
            "Epoch 48/100\n",
            "5/5 [==============================] - 0s 15ms/step - loss: 4.8225 - val_loss: 4.8766\n",
            "Epoch 49/100\n",
            "5/5 [==============================] - 0s 21ms/step - loss: 3.1136 - val_loss: 3.4750\n",
            "Epoch 50/100\n",
            "5/5 [==============================] - 0s 13ms/step - loss: 2.4105 - val_loss: 3.4417\n",
            "Epoch 51/100\n",
            "5/5 [==============================] - 0s 17ms/step - loss: 3.7081 - val_loss: 7.0344\n",
            "Epoch 52/100\n",
            "5/5 [==============================] - 0s 18ms/step - loss: 4.9361 - val_loss: 3.6934\n",
            "Epoch 53/100\n",
            "5/5 [==============================] - 0s 18ms/step - loss: 2.4788 - val_loss: 3.3131\n",
            "Epoch 54/100\n",
            "5/5 [==============================] - 0s 19ms/step - loss: 2.6967 - val_loss: 4.0983\n",
            "Epoch 55/100\n",
            "5/5 [==============================] - 0s 18ms/step - loss: 4.2579 - val_loss: 3.2844\n",
            "Epoch 56/100\n",
            "5/5 [==============================] - 0s 18ms/step - loss: 2.2278 - val_loss: 3.2539\n",
            "Epoch 57/100\n",
            "5/5 [==============================] - 0s 14ms/step - loss: 3.7677 - val_loss: 8.5919\n",
            "Epoch 58/100\n",
            "5/5 [==============================] - 0s 18ms/step - loss: 4.0932 - val_loss: 3.3168\n",
            "Epoch 59/100\n",
            "5/5 [==============================] - 0s 14ms/step - loss: 2.2352 - val_loss: 3.3391\n",
            "Epoch 60/100\n",
            "5/5 [==============================] - 0s 10ms/step - loss: 4.3735 - val_loss: 3.4524\n",
            "Epoch 61/100\n",
            "5/5 [==============================] - 0s 9ms/step - loss: 2.2935 - val_loss: 4.3382\n",
            "Epoch 62/100\n",
            "5/5 [==============================] - 0s 13ms/step - loss: 3.0348 - val_loss: 5.5845\n",
            "Epoch 63/100\n",
            "5/5 [==============================] - 0s 11ms/step - loss: 4.8682 - val_loss: 3.6892\n",
            "Epoch 64/100\n",
            "5/5 [==============================] - 0s 10ms/step - loss: 2.2439 - val_loss: 3.1714\n",
            "Epoch 65/100\n",
            "5/5 [==============================] - 0s 10ms/step - loss: 3.0592 - val_loss: 6.6400\n",
            "Epoch 66/100\n",
            "5/5 [==============================] - 0s 13ms/step - loss: 3.6298 - val_loss: 4.1406\n",
            "Epoch 67/100\n",
            "5/5 [==============================] - 0s 12ms/step - loss: 3.1432 - val_loss: 3.2624\n",
            "Epoch 68/100\n",
            "5/5 [==============================] - 0s 15ms/step - loss: 2.5204 - val_loss: 7.4980\n",
            "Epoch 69/100\n",
            "5/5 [==============================] - 0s 14ms/step - loss: 5.0809 - val_loss: 3.3406\n",
            "Epoch 70/100\n",
            "5/5 [==============================] - 0s 10ms/step - loss: 2.3300 - val_loss: 4.1185\n",
            "Epoch 71/100\n",
            "5/5 [==============================] - 0s 13ms/step - loss: 2.3375 - val_loss: 4.5341\n",
            "Epoch 72/100\n",
            "5/5 [==============================] - 0s 14ms/step - loss: 4.4792 - val_loss: 3.2749\n",
            "Epoch 73/100\n",
            "5/5 [==============================] - 0s 9ms/step - loss: 2.3537 - val_loss: 3.7676\n",
            "Epoch 74/100\n",
            "5/5 [==============================] - 0s 14ms/step - loss: 2.9666 - val_loss: 4.6302\n",
            "Epoch 75/100\n",
            "5/5 [==============================] - 0s 14ms/step - loss: 3.6839 - val_loss: 3.2384\n",
            "Epoch 76/100\n",
            "5/5 [==============================] - 0s 10ms/step - loss: 2.2502 - val_loss: 4.7802\n",
            "Epoch 77/100\n",
            "5/5 [==============================] - 0s 10ms/step - loss: 2.5843 - val_loss: 4.7428\n",
            "Epoch 78/100\n",
            "5/5 [==============================] - 0s 10ms/step - loss: 2.4714 - val_loss: 7.4764\n",
            "Epoch 79/100\n",
            "5/5 [==============================] - 0s 13ms/step - loss: 3.5044 - val_loss: 3.2499\n",
            "Epoch 80/100\n",
            "5/5 [==============================] - 0s 10ms/step - loss: 2.3220 - val_loss: 3.1601\n",
            "Epoch 81/100\n",
            "5/5 [==============================] - 0s 14ms/step - loss: 1.9677 - val_loss: 3.2970\n",
            "Epoch 82/100\n",
            "5/5 [==============================] - 0s 14ms/step - loss: 4.5287 - val_loss: 3.7130\n",
            "Epoch 83/100\n",
            "5/5 [==============================] - 0s 14ms/step - loss: 2.0682 - val_loss: 3.3799\n",
            "Epoch 84/100\n",
            "5/5 [==============================] - 0s 14ms/step - loss: 1.9510 - val_loss: 3.6015\n",
            "Epoch 85/100\n",
            "5/5 [==============================] - 0s 16ms/step - loss: 3.7872 - val_loss: 4.6102\n",
            "Epoch 86/100\n",
            "5/5 [==============================] - 0s 14ms/step - loss: 3.4459 - val_loss: 3.5317\n",
            "Epoch 87/100\n",
            "5/5 [==============================] - 0s 9ms/step - loss: 1.9860 - val_loss: 3.1912\n",
            "Epoch 88/100\n",
            "5/5 [==============================] - 0s 10ms/step - loss: 3.2771 - val_loss: 9.3218\n",
            "Epoch 89/100\n",
            "5/5 [==============================] - 0s 14ms/step - loss: 3.2270 - val_loss: 3.2227\n",
            "Epoch 90/100\n",
            "5/5 [==============================] - 0s 11ms/step - loss: 1.9335 - val_loss: 3.5729\n",
            "Epoch 91/100\n",
            "5/5 [==============================] - 0s 10ms/step - loss: 2.3584 - val_loss: 8.9231\n",
            "Epoch 92/100\n",
            "5/5 [==============================] - 0s 15ms/step - loss: 3.7870 - val_loss: 3.6828\n",
            "Epoch 93/100\n",
            "5/5 [==============================] - 0s 10ms/step - loss: 2.3924 - val_loss: 3.4560\n",
            "Epoch 94/100\n",
            "5/5 [==============================] - 0s 14ms/step - loss: 1.9382 - val_loss: 5.4395\n",
            "Epoch 95/100\n",
            "5/5 [==============================] - 0s 14ms/step - loss: 4.4796 - val_loss: 3.0817\n",
            "Epoch 96/100\n",
            "5/5 [==============================] - 0s 14ms/step - loss: 1.8522 - val_loss: 3.3049\n",
            "Epoch 97/100\n",
            "5/5 [==============================] - 0s 10ms/step - loss: 2.6278 - val_loss: 4.4656\n",
            "Epoch 98/100\n",
            "5/5 [==============================] - 0s 14ms/step - loss: 4.0717 - val_loss: 3.2678\n",
            "Epoch 99/100\n",
            "5/5 [==============================] - 0s 14ms/step - loss: 1.9202 - val_loss: 3.9739\n",
            "Epoch 100/100\n",
            "5/5 [==============================] - 0s 11ms/step - loss: 2.7587 - val_loss: 5.5443\n"
          ]
        }
      ]
    },
    {
      "cell_type": "code",
      "source": [
        "plt.plot(first_model_fit.history['loss'])\n",
        "plt.plot(first_model_fit.history['val_loss'])\n",
        "plt.ylabel('Loss (MSE)')\n",
        "plt.xlabel('Epoch')\n",
        "plt.legend(['Train MSE', 'Validation MSE'], loc='upper right')\n",
        "plt.show()"
      ],
      "metadata": {
        "id": "Tk9fVCNQq7gx",
        "colab": {
          "base_uri": "https://localhost:8080/",
          "height": 449
        },
        "outputId": "1f1404ec-d84e-4681-b452-56d8938c8833"
      },
      "execution_count": 31,
      "outputs": [
        {
          "output_type": "display_data",
          "data": {
            "text/plain": [
              "<Figure size 640x480 with 1 Axes>"
            ],
            "image/png": "[encoded data removed]"
          },
          "metadata": {}
        }
      ]
    },
    {
      "cell_type": "code",
      "source": [
        "print(first_model.predict([[230.1,37.8,69.2]]))"
      ],
      "metadata": {
        "id": "DuKTPh0ysiJ1",
        "colab": {
          "base_uri": "https://localhost:8080/"
        },
        "outputId": "e9736170-9d97-40d0-cff0-64b8befe0748"
      },
      "execution_count": 32,
      "outputs": [
        {
          "output_type": "stream",
          "name": "stdout",
          "text": [
            "1/1 [==============================] - 0s 101ms/step\n",
            "[[19.2885]]\n"
          ]
        }
      ]
    },
    {
      "cell_type": "code",
      "source": [
        "print(first_model.predict(advertising_df[['TV','radio','newspaper']].iloc[0:1,]))"
      ],
      "metadata": {
        "id": "mju1lMl0to4m",
        "colab": {
          "base_uri": "https://localhost:8080/"
        },
        "outputId": "cc5ba742-58cb-480b-8f44-84a58089d4e0"
      },
      "execution_count": 33,
      "outputs": [
        {
          "output_type": "stream",
          "name": "stderr",
          "text": [
            "WARNING:tensorflow:5 out of the last 5 calls to <function Model.make_predict_function.<locals>.predict_function at 0x7bd23cab3c70> triggered tf.function retracing. Tracing is expensive and the excessive number of tracings could be due to (1) creating @tf.function repeatedly in a loop, (2) passing tensors with different shapes, (3) passing Python objects instead of tensors. For (1), please define your @tf.function outside of the loop. For (2), @tf.function has reduce_retracing=True option that can avoid unnecessary retracing. For (3), please refer to https://www.tensorflow.org/guide/function#controlling_retracing and https://www.tensorflow.org/api_docs/python/tf/function for  more details.\n"
          ]
        },
        {
          "output_type": "stream",
          "name": "stdout",
          "text": [
            "1/1 [==============================] - 0s 81ms/step\n",
            "[[19.2885]]\n"
          ]
        }
      ]
    },
    {
      "cell_type": "code",
      "source": [
        "print(first_model.predict(advertising_df[['TV','radio','newspaper']].iloc[0:10,]))"
      ],
      "metadata": {
        "id": "d7SqMTn0i5oo",
        "colab": {
          "base_uri": "https://localhost:8080/"
        },
        "outputId": "e2ea588c-8c87-4df7-8016-5ae201e9ef04"
      },
      "execution_count": 34,
      "outputs": [
        {
          "output_type": "stream",
          "name": "stdout",
          "text": [
            "1/1 [==============================] - 0s 21ms/step\n",
            "[[19.2885   ]\n",
            " [10.885327 ]\n",
            " [ 8.205686 ]\n",
            " [16.53637  ]\n",
            " [12.711877 ]\n",
            " [ 7.332296 ]\n",
            " [10.439496 ]\n",
            " [10.9783945]\n",
            " [ 1.8111027]\n",
            " [ 9.386111 ]]\n"
          ]
        }
      ]
    },
    {
      "cell_type": "markdown",
      "source": [
        "## Normalizing / Scaling"
      ],
      "metadata": {
        "id": "sVman2i1hgea"
      }
    },
    {
      "cell_type": "code",
      "source": [
        "from sklearn import preprocessing\n",
        "\n",
        "min_max_scaler = preprocessing.MinMaxScaler()\n",
        "x_scaled = min_max_scaler.fit_transform(advertising_df)\n",
        "advertising_df_scaled = pd.DataFrame(x_scaled)\n",
        "advertising_df_scaled.head()"
      ],
      "metadata": {
        "id": "KPxbzKWLhD8j",
        "colab": {
          "base_uri": "https://localhost:8080/",
          "height": 206
        },
        "outputId": "a457dc34-cd46-4379-fb6d-80f4c83df2c4"
      },
      "execution_count": 35,
      "outputs": [
        {
          "output_type": "execute_result",
          "data": {
            "text/plain": [
              "          0         1         2         3\n",
              "0  0.775786  0.762097  0.605981  0.807087\n",
              "1  0.148123  0.792339  0.394019  0.346457\n",
              "2  0.055800  0.925403  0.606860  0.303150\n",
              "3  0.509976  0.832661  0.511873  0.665354\n",
              "4  0.609063  0.217742  0.510994  0.444882"
            ],
            "text/html": [
              "\n",
              "  <div id=\"df-50f3e90f-5aa8-4b57-8a01-884ff9e06058\" class=\"colab-df-container\">\n",
              "    <div>\n",
              "<style scoped>\n",
              "    .dataframe tbody tr th:only-of-type {\n",
              "        vertical-align: middle;\n",
              "    }\n",
              "\n",
              "    .dataframe tbody tr th {\n",
              "        vertical-align: top;\n",
              "    }\n",
              "\n",
              "    .dataframe thead th {\n",
              "        text-align: right;\n",
              "    }\n",
              "</style>\n",
              "<table border=\"1\" class=\"dataframe\">\n",
              "  <thead>\n",
              "    <tr style=\"text-align: right;\">\n",
              "      <th></th>\n",
              "      <th>0</th>\n",
              "      <th>1</th>\n",
              "      <th>2</th>\n",
              "      <th>3</th>\n",
              "    </tr>\n",
              "  </thead>\n",
              "  <tbody>\n",
              "    <tr>\n",
              "      <th>0</th>\n",
              "      <td>0.775786</td>\n",
              "      <td>0.762097</td>\n",
              "      <td>0.605981</td>\n",
              "      <td>0.807087</td>\n",
              "    </tr>\n",
              "    <tr>\n",
              "      <th>1</th>\n",
              "      <td>0.148123</td>\n",
              "      <td>0.792339</td>\n",
              "      <td>0.394019</td>\n",
              "      <td>0.346457</td>\n",
              "    </tr>\n",
              "    <tr>\n",
              "      <th>2</th>\n",
              "      <td>0.055800</td>\n",
              "      <td>0.925403</td>\n",
              "      <td>0.606860</td>\n",
              "      <td>0.303150</td>\n",
              "    </tr>\n",
              "    <tr>\n",
              "      <th>3</th>\n",
              "      <td>0.509976</td>\n",
              "      <td>0.832661</td>\n",
              "      <td>0.511873</td>\n",
              "      <td>0.665354</td>\n",
              "    </tr>\n",
              "    <tr>\n",
              "      <th>4</th>\n",
              "      <td>0.609063</td>\n",
              "      <td>0.217742</td>\n",
              "      <td>0.510994</td>\n",
              "      <td>0.444882</td>\n",
              "    </tr>\n",
              "  </tbody>\n",
              "</table>\n",
              "</div>\n",
              "    <div class=\"colab-df-buttons\">\n",
              "\n",
              "  <div class=\"colab-df-container\">\n",
              "    <button class=\"colab-df-convert\" onclick=\"convertToInteractive('df-50f3e90f-5aa8-4b57-8a01-884ff9e06058')\"\n",
              "            title=\"Convert this dataframe to an interactive table.\"\n",
              "            style=\"display:none;\">\n",
              "\n",
              "  <svg xmlns=\"http://www.w3.org/2000/svg\" height=\"24px\" viewBox=\"0 -960 960 960\">\n",
              "    <path d=\"M120-120v-720h720v720H120Zm60-500h600v-160H180v160Zm220 220h160v-160H400v160Zm0 220h160v-160H400v160ZM180-400h160v-160H180v160Zm440 0h160v-160H620v160ZM180-180h160v-160H180v160Zm440 0h160v-160H620v160Z\"/>\n",
              "  </svg>\n",
              "    </button>\n",
              "\n",
              "  <style>\n",
              "    .colab-df-container {\n",
              "      display:flex;\n",
              "      gap: 12px;\n",
              "    }\n",
              "\n",
              "    .colab-df-convert {\n",
              "      background-color: #E8F0FE;\n",
              "      border: none;\n",
              "      border-radius: 50%;\n",
              "      cursor: pointer;\n",
              "      display: none;\n",
              "      fill: #1967D2;\n",
              "      height: 32px;\n",
              "      padding: 0 0 0 0;\n",
              "      width: 32px;\n",
              "    }\n",
              "\n",
              "    .colab-df-convert:hover {\n",
              "      background-color: #E2EBFA;\n",
              "      box-shadow: 0px 1px 2px rgba(60, 64, 67, 0.3), 0px 1px 3px 1px rgba(60, 64, 67, 0.15);\n",
              "      fill: #174EA6;\n",
              "    }\n",
              "\n",
              "    .colab-df-buttons div {\n",
              "      margin-bottom: 4px;\n",
              "    }\n",
              "\n",
              "    [theme=dark] .colab-df-convert {\n",
              "      background-color: #3B4455;\n",
              "      fill: #D2E3FC;\n",
              "    }\n",
              "\n",
              "    [theme=dark] .colab-df-convert:hover {\n",
              "      background-color: #434B5C;\n",
              "      box-shadow: 0px 1px 3px 1px rgba(0, 0, 0, 0.15);\n",
              "      filter: drop-shadow(0px 1px 2px rgba(0, 0, 0, 0.3));\n",
              "      fill: #FFFFFF;\n",
              "    }\n",
              "  </style>\n",
              "\n",
              "    <script>\n",
              "      const buttonEl =\n",
              "        document.querySelector('#df-50f3e90f-5aa8-4b57-8a01-884ff9e06058 button.colab-df-convert');\n",
              "      buttonEl.style.display =\n",
              "        google.colab.kernel.accessAllowed ? 'block' : 'none';\n",
              "\n",
              "      async function convertToInteractive(key) {\n",
              "        const element = document.querySelector('#df-50f3e90f-5aa8-4b57-8a01-884ff9e06058');\n",
              "        const dataTable =\n",
              "          await google.colab.kernel.invokeFunction('convertToInteractive',\n",
              "                                                    [key], {});\n",
              "        if (!dataTable) return;\n",
              "\n",
              "        const docLinkHtml = 'Like what you see? Visit the ' +\n",
              "          '<a target=\"_blank\" href=https://colab.research.google.com/notebooks/data_table.ipynb>data table notebook</a>'\n",
              "          + ' to learn more about interactive tables.';\n",
              "        element.innerHTML = '';\n",
              "        dataTable['output_type'] = 'display_data';\n",
              "        await google.colab.output.renderOutput(dataTable, element);\n",
              "        const docLink = document.createElement('div');\n",
              "        docLink.innerHTML = docLinkHtml;\n",
              "        element.appendChild(docLink);\n",
              "      }\n",
              "    </script>\n",
              "  </div>\n",
              "\n",
              "\n",
              "<div id=\"df-5aa8a5d1-f1ce-41ea-bac9-2de1c0405600\">\n",
              "  <button class=\"colab-df-quickchart\" onclick=\"quickchart('df-5aa8a5d1-f1ce-41ea-bac9-2de1c0405600')\"\n",
              "            title=\"Suggest charts\"\n",
              "            style=\"display:none;\">\n",
              "\n",
              "<svg xmlns=\"http://www.w3.org/2000/svg\" height=\"24px\"viewBox=\"0 0 24 24\"\n",
              "     width=\"24px\">\n",
              "    <g>\n",
              "        <path d=\"M19 3H5c-1.1 0-2 .9-2 2v14c0 1.1.9 2 2 2h14c1.1 0 2-.9 2-2V5c0-1.1-.9-2-2-2zM9 17H7v-7h2v7zm4 0h-2V7h2v10zm4 0h-2v-4h2v4z\"/>\n",
              "    </g>\n",
              "</svg>\n",
              "  </button>\n",
              "\n",
              "<style>\n",
              "  .colab-df-quickchart {\n",
              "      --bg-color: #E8F0FE;\n",
              "      --fill-color: #1967D2;\n",
              "      --hover-bg-color: #E2EBFA;\n",
              "      --hover-fill-color: #174EA6;\n",
              "      --disabled-fill-color: #AAA;\n",
              "      --disabled-bg-color: #DDD;\n",
              "  }\n",
              "\n",
              "  [theme=dark] .colab-df-quickchart {\n",
              "      --bg-color: #3B4455;\n",
              "      --fill-color: #D2E3FC;\n",
              "      --hover-bg-color: #434B5C;\n",
              "      --hover-fill-color: #FFFFFF;\n",
              "      --disabled-bg-color: #3B4455;\n",
              "      --disabled-fill-color: #666;\n",
              "  }\n",
              "\n",
              "  .colab-df-quickchart {\n",
              "    background-color: var(--bg-color);\n",
              "    border: none;\n",
              "    border-radius: 50%;\n",
              "    cursor: pointer;\n",
              "    display: none;\n",
              "    fill: var(--fill-color);\n",
              "    height: 32px;\n",
              "    padding: 0;\n",
              "    width: 32px;\n",
              "  }\n",
              "\n",
              "  .colab-df-quickchart:hover {\n",
              "    background-color: var(--hover-bg-color);\n",
              "    box-shadow: 0 1px 2px rgba(60, 64, 67, 0.3), 0 1px 3px 1px rgba(60, 64, 67, 0.15);\n",
              "    fill: var(--button-hover-fill-color);\n",
              "  }\n",
              "\n",
              "  .colab-df-quickchart-complete:disabled,\n",
              "  .colab-df-quickchart-complete:disabled:hover {\n",
              "    background-color: var(--disabled-bg-color);\n",
              "    fill: var(--disabled-fill-color);\n",
              "    box-shadow: none;\n",
              "  }\n",
              "\n",
              "  .colab-df-spinner {\n",
              "    border: 2px solid var(--fill-color);\n",
              "    border-color: transparent;\n",
              "    border-bottom-color: var(--fill-color);\n",
              "    animation:\n",
              "      spin 1s steps(1) infinite;\n",
              "  }\n",
              "\n",
              "  @keyframes spin {\n",
              "    0% {\n",
              "      border-color: transparent;\n",
              "      border-bottom-color: var(--fill-color);\n",
              "      border-left-color: var(--fill-color);\n",
              "    }\n",
              "    20% {\n",
              "      border-color: transparent;\n",
              "      border-left-color: var(--fill-color);\n",
              "      border-top-color: var(--fill-color);\n",
              "    }\n",
              "    30% {\n",
              "      border-color: transparent;\n",
              "      border-left-color: var(--fill-color);\n",
              "      border-top-color: var(--fill-color);\n",
              "      border-right-color: var(--fill-color);\n",
              "    }\n",
              "    40% {\n",
              "      border-color: transparent;\n",
              "      border-right-color: var(--fill-color);\n",
              "      border-top-color: var(--fill-color);\n",
              "    }\n",
              "    60% {\n",
              "      border-color: transparent;\n",
              "      border-right-color: var(--fill-color);\n",
              "    }\n",
              "    80% {\n",
              "      border-color: transparent;\n",
              "      border-right-color: var(--fill-color);\n",
              "      border-bottom-color: var(--fill-color);\n",
              "    }\n",
              "    90% {\n",
              "      border-color: transparent;\n",
              "      border-bottom-color: var(--fill-color);\n",
              "    }\n",
              "  }\n",
              "</style>\n",
              "\n",
              "  <script>\n",
              "    async function quickchart(key) {\n",
              "      const quickchartButtonEl =\n",
              "        document.querySelector('#' + key + ' button');\n",
              "      quickchartButtonEl.disabled = true;  // To prevent multiple clicks.\n",
              "      quickchartButtonEl.classList.add('colab-df-spinner');\n",
              "      try {\n",
              "        const charts = await google.colab.kernel.invokeFunction(\n",
              "            'suggestCharts', [key], {});\n",
              "      } catch (error) {\n",
              "        console.error('Error during call to suggestCharts:', error);\n",
              "      }\n",
              "      quickchartButtonEl.classList.remove('colab-df-spinner');\n",
              "      quickchartButtonEl.classList.add('colab-df-quickchart-complete');\n",
              "    }\n",
              "    (() => {\n",
              "      let quickchartButtonEl =\n",
              "        document.querySelector('#df-5aa8a5d1-f1ce-41ea-bac9-2de1c0405600 button');\n",
              "      quickchartButtonEl.style.display =\n",
              "        google.colab.kernel.accessAllowed ? 'block' : 'none';\n",
              "    })();\n",
              "  </script>\n",
              "</div>\n",
              "    </div>\n",
              "  </div>\n"
            ]
          },
          "metadata": {},
          "execution_count": 35
        }
      ]
    },
    {
      "cell_type": "code",
      "source": [
        "advertising_df_descaled = pd.DataFrame(min_max_scaler.inverse_transform(x_scaled))\n",
        "advertising_df_descaled"
      ],
      "metadata": {
        "id": "lz5TPpL8hRSu",
        "colab": {
          "base_uri": "https://localhost:8080/",
          "height": 424
        },
        "outputId": "4bf628ff-dc50-4654-a323-17d2162724b9"
      },
      "execution_count": 36,
      "outputs": [
        {
          "output_type": "execute_result",
          "data": {
            "text/plain": [
              "         0     1     2     3\n",
              "0    230.1  37.8  69.2  22.1\n",
              "1     44.5  39.3  45.1  10.4\n",
              "2     17.2  45.9  69.3   9.3\n",
              "3    151.5  41.3  58.5  18.5\n",
              "4    180.8  10.8  58.4  12.9\n",
              "..     ...   ...   ...   ...\n",
              "195   38.2   3.7  13.8   7.6\n",
              "196   94.2   4.9   8.1   9.7\n",
              "197  177.0   9.3   6.4  12.8\n",
              "198  283.6  42.0  66.2  25.5\n",
              "199  232.1   8.6   8.7  13.4\n",
              "\n",
              "[200 rows x 4 columns]"
            ],
            "text/html": [
              "\n",
              "  <div id=\"df-0b3a6768-4ce9-46cd-9478-869cbc711671\" class=\"colab-df-container\">\n",
              "    <div>\n",
              "<style scoped>\n",
              "    .dataframe tbody tr th:only-of-type {\n",
              "        vertical-align: middle;\n",
              "    }\n",
              "\n",
              "    .dataframe tbody tr th {\n",
              "        vertical-align: top;\n",
              "    }\n",
              "\n",
              "    .dataframe thead th {\n",
              "        text-align: right;\n",
              "    }\n",
              "</style>\n",
              "<table border=\"1\" class=\"dataframe\">\n",
              "  <thead>\n",
              "    <tr style=\"text-align: right;\">\n",
              "      <th></th>\n",
              "      <th>0</th>\n",
              "      <th>1</th>\n",
              "      <th>2</th>\n",
              "      <th>3</th>\n",
              "    </tr>\n",
              "  </thead>\n",
              "  <tbody>\n",
              "    <tr>\n",
              "      <th>0</th>\n",
              "      <td>230.1</td>\n",
              "      <td>37.8</td>\n",
              "      <td>69.2</td>\n",
              "      <td>22.1</td>\n",
              "    </tr>\n",
              "    <tr>\n",
              "      <th>1</th>\n",
              "      <td>44.5</td>\n",
              "      <td>39.3</td>\n",
              "      <td>45.1</td>\n",
              "      <td>10.4</td>\n",
              "    </tr>\n",
              "    <tr>\n",
              "      <th>2</th>\n",
              "      <td>17.2</td>\n",
              "      <td>45.9</td>\n",
              "      <td>69.3</td>\n",
              "      <td>9.3</td>\n",
              "    </tr>\n",
              "    <tr>\n",
              "      <th>3</th>\n",
              "      <td>151.5</td>\n",
              "      <td>41.3</td>\n",
              "      <td>58.5</td>\n",
              "      <td>18.5</td>\n",
              "    </tr>\n",
              "    <tr>\n",
              "      <th>4</th>\n",
              "      <td>180.8</td>\n",
              "      <td>10.8</td>\n",
              "      <td>58.4</td>\n",
              "      <td>12.9</td>\n",
              "    </tr>\n",
              "    <tr>\n",
              "      <th>...</th>\n",
              "      <td>...</td>\n",
              "      <td>...</td>\n",
              "      <td>...</td>\n",
              "      <td>...</td>\n",
              "    </tr>\n",
              "    <tr>\n",
              "      <th>195</th>\n",
              "      <td>38.2</td>\n",
              "      <td>3.7</td>\n",
              "      <td>13.8</td>\n",
              "      <td>7.6</td>\n",
              "    </tr>\n",
              "    <tr>\n",
              "      <th>196</th>\n",
              "      <td>94.2</td>\n",
              "      <td>4.9</td>\n",
              "      <td>8.1</td>\n",
              "      <td>9.7</td>\n",
              "    </tr>\n",
              "    <tr>\n",
              "      <th>197</th>\n",
              "      <td>177.0</td>\n",
              "      <td>9.3</td>\n",
              "      <td>6.4</td>\n",
              "      <td>12.8</td>\n",
              "    </tr>\n",
              "    <tr>\n",
              "      <th>198</th>\n",
              "      <td>283.6</td>\n",
              "      <td>42.0</td>\n",
              "      <td>66.2</td>\n",
              "      <td>25.5</td>\n",
              "    </tr>\n",
              "    <tr>\n",
              "      <th>199</th>\n",
              "      <td>232.1</td>\n",
              "      <td>8.6</td>\n",
              "      <td>8.7</td>\n",
              "      <td>13.4</td>\n",
              "    </tr>\n",
              "  </tbody>\n",
              "</table>\n",
              "<p>200 rows × 4 columns</p>\n",
              "</div>\n",
              "    <div class=\"colab-df-buttons\">\n",
              "\n",
              "  <div class=\"colab-df-container\">\n",
              "    <button class=\"colab-df-convert\" onclick=\"convertToInteractive('df-0b3a6768-4ce9-46cd-9478-869cbc711671')\"\n",
              "            title=\"Convert this dataframe to an interactive table.\"\n",
              "            style=\"display:none;\">\n",
              "\n",
              "  <svg xmlns=\"http://www.w3.org/2000/svg\" height=\"24px\" viewBox=\"0 -960 960 960\">\n",
              "    <path d=\"M120-120v-720h720v720H120Zm60-500h600v-160H180v160Zm220 220h160v-160H400v160Zm0 220h160v-160H400v160ZM180-400h160v-160H180v160Zm440 0h160v-160H620v160ZM180-180h160v-160H180v160Zm440 0h160v-160H620v160Z\"/>\n",
              "  </svg>\n",
              "    </button>\n",
              "\n",
              "  <style>\n",
              "    .colab-df-container {\n",
              "      display:flex;\n",
              "      gap: 12px;\n",
              "    }\n",
              "\n",
              "    .colab-df-convert {\n",
              "      background-color: #E8F0FE;\n",
              "      border: none;\n",
              "      border-radius: 50%;\n",
              "      cursor: pointer;\n",
              "      display: none;\n",
              "      fill: #1967D2;\n",
              "      height: 32px;\n",
              "      padding: 0 0 0 0;\n",
              "      width: 32px;\n",
              "    }\n",
              "\n",
              "    .colab-df-convert:hover {\n",
              "      background-color: #E2EBFA;\n",
              "      box-shadow: 0px 1px 2px rgba(60, 64, 67, 0.3), 0px 1px 3px 1px rgba(60, 64, 67, 0.15);\n",
              "      fill: #174EA6;\n",
              "    }\n",
              "\n",
              "    .colab-df-buttons div {\n",
              "      margin-bottom: 4px;\n",
              "    }\n",
              "\n",
              "    [theme=dark] .colab-df-convert {\n",
              "      background-color: #3B4455;\n",
              "      fill: #D2E3FC;\n",
              "    }\n",
              "\n",
              "    [theme=dark] .colab-df-convert:hover {\n",
              "      background-color: #434B5C;\n",
              "      box-shadow: 0px 1px 3px 1px rgba(0, 0, 0, 0.15);\n",
              "      filter: drop-shadow(0px 1px 2px rgba(0, 0, 0, 0.3));\n",
              "      fill: #FFFFFF;\n",
              "    }\n",
              "  </style>\n",
              "\n",
              "    <script>\n",
              "      const buttonEl =\n",
              "        document.querySelector('#df-0b3a6768-4ce9-46cd-9478-869cbc711671 button.colab-df-convert');\n",
              "      buttonEl.style.display =\n",
              "        google.colab.kernel.accessAllowed ? 'block' : 'none';\n",
              "\n",
              "      async function convertToInteractive(key) {\n",
              "        const element = document.querySelector('#df-0b3a6768-4ce9-46cd-9478-869cbc711671');\n",
              "        const dataTable =\n",
              "          await google.colab.kernel.invokeFunction('convertToInteractive',\n",
              "                                                    [key], {});\n",
              "        if (!dataTable) return;\n",
              "\n",
              "        const docLinkHtml = 'Like what you see? Visit the ' +\n",
              "          '<a target=\"_blank\" href=https://colab.research.google.com/notebooks/data_table.ipynb>data table notebook</a>'\n",
              "          + ' to learn more about interactive tables.';\n",
              "        element.innerHTML = '';\n",
              "        dataTable['output_type'] = 'display_data';\n",
              "        await google.colab.output.renderOutput(dataTable, element);\n",
              "        const docLink = document.createElement('div');\n",
              "        docLink.innerHTML = docLinkHtml;\n",
              "        element.appendChild(docLink);\n",
              "      }\n",
              "    </script>\n",
              "  </div>\n",
              "\n",
              "\n",
              "<div id=\"df-cd44b3ce-8037-408f-84c7-c60425485803\">\n",
              "  <button class=\"colab-df-quickchart\" onclick=\"quickchart('df-cd44b3ce-8037-408f-84c7-c60425485803')\"\n",
              "            title=\"Suggest charts\"\n",
              "            style=\"display:none;\">\n",
              "\n",
              "<svg xmlns=\"http://www.w3.org/2000/svg\" height=\"24px\"viewBox=\"0 0 24 24\"\n",
              "     width=\"24px\">\n",
              "    <g>\n",
              "        <path d=\"M19 3H5c-1.1 0-2 .9-2 2v14c0 1.1.9 2 2 2h14c1.1 0 2-.9 2-2V5c0-1.1-.9-2-2-2zM9 17H7v-7h2v7zm4 0h-2V7h2v10zm4 0h-2v-4h2v4z\"/>\n",
              "    </g>\n",
              "</svg>\n",
              "  </button>\n",
              "\n",
              "<style>\n",
              "  .colab-df-quickchart {\n",
              "      --bg-color: #E8F0FE;\n",
              "      --fill-color: #1967D2;\n",
              "      --hover-bg-color: #E2EBFA;\n",
              "      --hover-fill-color: #174EA6;\n",
              "      --disabled-fill-color: #AAA;\n",
              "      --disabled-bg-color: #DDD;\n",
              "  }\n",
              "\n",
              "  [theme=dark] .colab-df-quickchart {\n",
              "      --bg-color: #3B4455;\n",
              "      --fill-color: #D2E3FC;\n",
              "      --hover-bg-color: #434B5C;\n",
              "      --hover-fill-color: #FFFFFF;\n",
              "      --disabled-bg-color: #3B4455;\n",
              "      --disabled-fill-color: #666;\n",
              "  }\n",
              "\n",
              "  .colab-df-quickchart {\n",
              "    background-color: var(--bg-color);\n",
              "    border: none;\n",
              "    border-radius: 50%;\n",
              "    cursor: pointer;\n",
              "    display: none;\n",
              "    fill: var(--fill-color);\n",
              "    height: 32px;\n",
              "    padding: 0;\n",
              "    width: 32px;\n",
              "  }\n",
              "\n",
              "  .colab-df-quickchart:hover {\n",
              "    background-color: var(--hover-bg-color);\n",
              "    box-shadow: 0 1px 2px rgba(60, 64, 67, 0.3), 0 1px 3px 1px rgba(60, 64, 67, 0.15);\n",
              "    fill: var(--button-hover-fill-color);\n",
              "  }\n",
              "\n",
              "  .colab-df-quickchart-complete:disabled,\n",
              "  .colab-df-quickchart-complete:disabled:hover {\n",
              "    background-color: var(--disabled-bg-color);\n",
              "    fill: var(--disabled-fill-color);\n",
              "    box-shadow: none;\n",
              "  }\n",
              "\n",
              "  .colab-df-spinner {\n",
              "    border: 2px solid var(--fill-color);\n",
              "    border-color: transparent;\n",
              "    border-bottom-color: var(--fill-color);\n",
              "    animation:\n",
              "      spin 1s steps(1) infinite;\n",
              "  }\n",
              "\n",
              "  @keyframes spin {\n",
              "    0% {\n",
              "      border-color: transparent;\n",
              "      border-bottom-color: var(--fill-color);\n",
              "      border-left-color: var(--fill-color);\n",
              "    }\n",
              "    20% {\n",
              "      border-color: transparent;\n",
              "      border-left-color: var(--fill-color);\n",
              "      border-top-color: var(--fill-color);\n",
              "    }\n",
              "    30% {\n",
              "      border-color: transparent;\n",
              "      border-left-color: var(--fill-color);\n",
              "      border-top-color: var(--fill-color);\n",
              "      border-right-color: var(--fill-color);\n",
              "    }\n",
              "    40% {\n",
              "      border-color: transparent;\n",
              "      border-right-color: var(--fill-color);\n",
              "      border-top-color: var(--fill-color);\n",
              "    }\n",
              "    60% {\n",
              "      border-color: transparent;\n",
              "      border-right-color: var(--fill-color);\n",
              "    }\n",
              "    80% {\n",
              "      border-color: transparent;\n",
              "      border-right-color: var(--fill-color);\n",
              "      border-bottom-color: var(--fill-color);\n",
              "    }\n",
              "    90% {\n",
              "      border-color: transparent;\n",
              "      border-bottom-color: var(--fill-color);\n",
              "    }\n",
              "  }\n",
              "</style>\n",
              "\n",
              "  <script>\n",
              "    async function quickchart(key) {\n",
              "      const quickchartButtonEl =\n",
              "        document.querySelector('#' + key + ' button');\n",
              "      quickchartButtonEl.disabled = true;  // To prevent multiple clicks.\n",
              "      quickchartButtonEl.classList.add('colab-df-spinner');\n",
              "      try {\n",
              "        const charts = await google.colab.kernel.invokeFunction(\n",
              "            'suggestCharts', [key], {});\n",
              "      } catch (error) {\n",
              "        console.error('Error during call to suggestCharts:', error);\n",
              "      }\n",
              "      quickchartButtonEl.classList.remove('colab-df-spinner');\n",
              "      quickchartButtonEl.classList.add('colab-df-quickchart-complete');\n",
              "    }\n",
              "    (() => {\n",
              "      let quickchartButtonEl =\n",
              "        document.querySelector('#df-cd44b3ce-8037-408f-84c7-c60425485803 button');\n",
              "      quickchartButtonEl.style.display =\n",
              "        google.colab.kernel.accessAllowed ? 'block' : 'none';\n",
              "    })();\n",
              "  </script>\n",
              "</div>\n",
              "    </div>\n",
              "  </div>\n"
            ]
          },
          "metadata": {},
          "execution_count": 36
        }
      ]
    },
    {
      "cell_type": "code",
      "source": [],
      "metadata": {
        "id": "NmYqcHDtuCHQ"
      },
      "execution_count": null,
      "outputs": []
    }
  ]
}